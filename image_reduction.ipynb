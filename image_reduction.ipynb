{
 "cells": [
  {
   "cell_type": "code",
   "execution_count": 2,
   "metadata": {
    "scrolled": true
   },
   "outputs": [],
   "source": [
    "# import os\n",
    "# from os import getcwd, chdir\n",
    "# import cv2\n",
    "# from glob import glob\n",
    "\n",
    "\n",
    "# os.chdir('C:\\\\Users\\\\User\\\\Desktop')\n",
    "# os.mkdir('New_Images')\n",
    "\n",
    "# def list_files(directory, extension):\n",
    "#     saved = getcwd()\n",
    "#     chdir(directory)\n",
    "#     it = glob('*.' + extension)\n",
    "#     chdir(saved)\n",
    "#     return it\n",
    "\n",
    "# directory = 'C:\\\\Users\\\\User\\\\Desktop\\\\Images\\\\'\n",
    "# file_list = list_files(directory, 'jpg')\n",
    "\n",
    "# for i in range(len(file_list)):    \n",
    "#     img = cv2.imread(directory + file_list[i])\n",
    "\n",
    "#     height = img.shape[0]\n",
    "#     width = img.shape[1]\n",
    "\n",
    "#     height -= height%4\n",
    "#     width -= width%4\n",
    "\n",
    "#     height /= 4\n",
    "#     width /= 4\n",
    "#     dim = (int(width), int(height))\n",
    "\n",
    "#     resized = cv2.resize(img, dim, interpolation = cv2.INTER_LINEAR)\n",
    "#     os.chdir('C:\\\\Users\\\\User\\\\Desktop\\\\New_Images') \n",
    "#     filename = file_list[i]\n",
    "    \n",
    "#     cv2.imwrite(filename, resized) "
   ]
  },
  {
   "cell_type": "code",
   "execution_count": 1,
   "metadata": {},
   "outputs": [],
   "source": [
    "#importing libraries\n",
    "import os\n",
    "from os import getcwd, chdir\n",
    "import cv2\n",
    "from glob import glob"
   ]
  },
  {
   "cell_type": "code",
   "execution_count": 2,
   "metadata": {},
   "outputs": [],
   "source": [
    "os.chdir('C:\\\\Users\\\\User\\\\Desktop') #current directory\n",
    "os.mkdir('Reduced_Images') #creating a new folder on desktop"
   ]
  },
  {
   "cell_type": "code",
   "execution_count": 3,
   "metadata": {},
   "outputs": [],
   "source": [
    "#defining a list_files function\n",
    "def list_files(directory, extension):\n",
    "    saved = getcwd() #saving the current directory\n",
    "    chdir(directory)   #changing the directory\n",
    "    it = glob('*.' + extension)   #listing all documents \n",
    "    chdir(saved)   #returning to the previous directory\n",
    "    return it"
   ]
  },
  {
   "cell_type": "code",
   "execution_count": 4,
   "metadata": {},
   "outputs": [],
   "source": [
    "directory = 'C:\\\\Users\\\\User\\\\Desktop\\\\Images\\\\'\n",
    "file_list = list_files(directory, 'jpg')"
   ]
  },
  {
   "cell_type": "code",
   "execution_count": 5,
   "metadata": {},
   "outputs": [],
   "source": [
    "for i in range(len(file_list)):    \n",
    "    img = cv2.imread(directory + file_list[i]) #reading the picture\n",
    "\n",
    "    height = img.shape[0]\n",
    "    width = img.shape[1]\n",
    "\n",
    "    height -= height%4\n",
    "    width -= width%4\n",
    "\n",
    "    height //= 4\n",
    "    width //= 4\n",
    "    dim = (width, height) #storing the reduced dimension in the 'dim' variable\n",
    "\n",
    "    resized = cv2.resize(img, dim, interpolation = cv2.INTER_LINEAR) #resizing the image\n",
    "    \n",
    "    os.chdir('C:\\\\Users\\\\User\\\\Desktop\\\\Reduced_Images') #new folder directory\n",
    "    filename = 'reduced_' + file_list[i] #changing the name\n",
    "    \n",
    "    cv2.imwrite(filename, resized) #saving the reduced image"
   ]
  }
 ],
 "metadata": {
  "celltoolbar": "Raw Cell Format",
  "kernelspec": {
   "display_name": "Python 3",
   "language": "python",
   "name": "python3"
  },
  "language_info": {
   "codemirror_mode": {
    "name": "ipython",
    "version": 3
   },
   "file_extension": ".py",
   "mimetype": "text/x-python",
   "name": "python",
   "nbconvert_exporter": "python",
   "pygments_lexer": "ipython3",
   "version": "3.7.3"
  }
 },
 "nbformat": 4,
 "nbformat_minor": 2
}
